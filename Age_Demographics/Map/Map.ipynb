{
 "cells": [
  {
   "cell_type": "markdown",
   "metadata": {},
   "source": [
    "# Visualizing the United States' Age Demographics\n",
    "\n",
    "This project takes age demographics by city (scraped from city-data.com) and makes Google Places API calls on each city"
   ]
  },
  {
   "cell_type": "code",
   "execution_count": 1,
   "metadata": {},
   "outputs": [],
   "source": [
    "# Import dependencies \n",
    "import pickle, requests\n",
    "import pandas as pd\n",
    "from config import g_key\n",
    "import gmaps\n",
    "gmaps.configure(api_key=g_key)"
   ]
  },
  {
   "cell_type": "code",
   "execution_count": 2,
   "metadata": {},
   "outputs": [
    {
     "data": {
      "application/vnd.jupyter.widget-view+json": {
       "model_id": "aa09a27eb4414827b7fa7c79e973766a",
       "version_major": 2,
       "version_minor": 0
      },
      "text/plain": [
       "Figure(layout=FigureLayout(height='420px'))"
      ]
     },
     "metadata": {},
     "output_type": "display_data"
    }
   ],
   "source": [
    "df = pd.read_csv('../Data/places.csv')\n",
    "\n",
    "locations = df[['Lat', 'Lng']]\n",
    "ages = df['Median Age']\n",
    "\n",
    "fig = gmaps.figure()\n",
    "\n",
    "layer = gmaps.heatmap_layer(locations, weights = df['Median Age'])\n",
    "fig.add_layer(layer)\n",
    "fig"
   ]
  },
  {
   "cell_type": "markdown",
   "metadata": {},
   "source": [
    "I couldn't figure out how to save the gmaps figure into the notebook, so I just saved a png\n",
    "\n",
    "Refer to map.png in the project directory"
   ]
  },
  {
   "cell_type": "code",
   "execution_count": 6,
   "metadata": {},
   "outputs": [
    {
     "data": {
      "text/html": [
       "<div>\n",
       "<style scoped>\n",
       "    .dataframe tbody tr th:only-of-type {\n",
       "        vertical-align: middle;\n",
       "    }\n",
       "\n",
       "    .dataframe tbody tr th {\n",
       "        vertical-align: top;\n",
       "    }\n",
       "\n",
       "    .dataframe thead th {\n",
       "        text-align: right;\n",
       "    }\n",
       "</style>\n",
       "<table border=\"1\" class=\"dataframe\">\n",
       "  <thead>\n",
       "    <tr style=\"text-align: right;\">\n",
       "      <th></th>\n",
       "      <th>Unnamed: 0</th>\n",
       "      <th>Place</th>\n",
       "      <th>Lat</th>\n",
       "      <th>Lng</th>\n",
       "      <th>Median Age</th>\n",
       "    </tr>\n",
       "  </thead>\n",
       "  <tbody>\n",
       "    <tr>\n",
       "      <th>0</th>\n",
       "      <td>0</td>\n",
       "      <td>Anchorage-Alaska</td>\n",
       "      <td>61.108864</td>\n",
       "      <td>-149.440311</td>\n",
       "      <td>34.0</td>\n",
       "    </tr>\n",
       "    <tr>\n",
       "      <th>1</th>\n",
       "      <td>1</td>\n",
       "      <td>Badger-Alaska</td>\n",
       "      <td>64.805806</td>\n",
       "      <td>-147.410267</td>\n",
       "      <td>32.0</td>\n",
       "    </tr>\n",
       "    <tr>\n",
       "      <th>2</th>\n",
       "      <td>2</td>\n",
       "      <td>Bethel-Alaska</td>\n",
       "      <td>60.790794</td>\n",
       "      <td>-161.793728</td>\n",
       "      <td>30.0</td>\n",
       "    </tr>\n",
       "    <tr>\n",
       "      <th>3</th>\n",
       "      <td>3</td>\n",
       "      <td>College-Alaska</td>\n",
       "      <td>64.866742</td>\n",
       "      <td>-147.824311</td>\n",
       "      <td>29.4</td>\n",
       "    </tr>\n",
       "    <tr>\n",
       "      <th>4</th>\n",
       "      <td>4</td>\n",
       "      <td>Fairbanks-Alaska</td>\n",
       "      <td>64.828364</td>\n",
       "      <td>-147.669003</td>\n",
       "      <td>27.7</td>\n",
       "    </tr>\n",
       "    <tr>\n",
       "      <th>...</th>\n",
       "      <td>...</td>\n",
       "      <td>...</td>\n",
       "      <td>...</td>\n",
       "      <td>...</td>\n",
       "      <td>...</td>\n",
       "    </tr>\n",
       "    <tr>\n",
       "      <th>6770</th>\n",
       "      <td>6770</td>\n",
       "      <td>Riverton-Wyoming</td>\n",
       "      <td>43.043195</td>\n",
       "      <td>-108.417530</td>\n",
       "      <td>36.2</td>\n",
       "    </tr>\n",
       "    <tr>\n",
       "      <th>6771</th>\n",
       "      <td>6771</td>\n",
       "      <td>Rock-Springs-Wyoming</td>\n",
       "      <td>41.603953</td>\n",
       "      <td>-109.166595</td>\n",
       "      <td>32.8</td>\n",
       "    </tr>\n",
       "    <tr>\n",
       "      <th>6772</th>\n",
       "      <td>6772</td>\n",
       "      <td>Sheridan-Wyoming</td>\n",
       "      <td>44.789518</td>\n",
       "      <td>-106.968179</td>\n",
       "      <td>39.1</td>\n",
       "    </tr>\n",
       "    <tr>\n",
       "      <th>6773</th>\n",
       "      <td>6773</td>\n",
       "      <td>Torrington-Wyoming</td>\n",
       "      <td>42.063466</td>\n",
       "      <td>-104.179067</td>\n",
       "      <td>37.5</td>\n",
       "    </tr>\n",
       "    <tr>\n",
       "      <th>6774</th>\n",
       "      <td>6774</td>\n",
       "      <td>Wind-River-Wyoming</td>\n",
       "      <td>43.581067</td>\n",
       "      <td>-108.212321</td>\n",
       "      <td>35.0</td>\n",
       "    </tr>\n",
       "  </tbody>\n",
       "</table>\n",
       "<p>6775 rows × 5 columns</p>\n",
       "</div>"
      ],
      "text/plain": [
       "      Unnamed: 0                 Place        Lat         Lng  Median Age\n",
       "0              0      Anchorage-Alaska  61.108864 -149.440311        34.0\n",
       "1              1         Badger-Alaska  64.805806 -147.410267        32.0\n",
       "2              2         Bethel-Alaska  60.790794 -161.793728        30.0\n",
       "3              3        College-Alaska  64.866742 -147.824311        29.4\n",
       "4              4      Fairbanks-Alaska  64.828364 -147.669003        27.7\n",
       "...          ...                   ...        ...         ...         ...\n",
       "6770        6770      Riverton-Wyoming  43.043195 -108.417530        36.2\n",
       "6771        6771  Rock-Springs-Wyoming  41.603953 -109.166595        32.8\n",
       "6772        6772      Sheridan-Wyoming  44.789518 -106.968179        39.1\n",
       "6773        6773    Torrington-Wyoming  42.063466 -104.179067        37.5\n",
       "6774        6774    Wind-River-Wyoming  43.581067 -108.212321        35.0\n",
       "\n",
       "[6775 rows x 5 columns]"
      ]
     },
     "execution_count": 6,
     "metadata": {},
     "output_type": "execute_result"
    }
   ],
   "source": [
    "df"
   ]
  },
  {
   "cell_type": "code",
   "execution_count": null,
   "metadata": {},
   "outputs": [],
   "source": []
  }
 ],
 "metadata": {
  "kernelspec": {
   "display_name": "Python 3",
   "language": "python",
   "name": "python3"
  },
  "language_info": {
   "codemirror_mode": {
    "name": "ipython",
    "version": 3
   },
   "file_extension": ".py",
   "mimetype": "text/x-python",
   "name": "python",
   "nbconvert_exporter": "python",
   "pygments_lexer": "ipython3",
   "version": "3.8.5"
  }
 },
 "nbformat": 4,
 "nbformat_minor": 4
}
