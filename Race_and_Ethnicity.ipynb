{
 "cells": [
  {
   "cell_type": "markdown",
   "metadata": {},
   "source": [
    "# Race and Ethnicity (combined)\n",
    "Covid-19 has disproportionally affected different races and ethnicities. "
   ]
  },
  {
   "cell_type": "code",
   "execution_count": 1,
   "metadata": {},
   "outputs": [],
   "source": [
    "import pandas as pd\n",
    "import matplotlib.pyplot as plt\n",
    "import numpy as np"
   ]
  },
  {
   "cell_type": "code",
   "execution_count": 2,
   "metadata": {},
   "outputs": [
    {
     "data": {
      "text/html": [
       "<div>\n",
       "<style scoped>\n",
       "    .dataframe tbody tr th:only-of-type {\n",
       "        vertical-align: middle;\n",
       "    }\n",
       "\n",
       "    .dataframe tbody tr th {\n",
       "        vertical-align: top;\n",
       "    }\n",
       "\n",
       "    .dataframe thead th {\n",
       "        text-align: right;\n",
       "    }\n",
       "</style>\n",
       "<table border=\"1\" class=\"dataframe\">\n",
       "  <thead>\n",
       "    <tr style=\"text-align: right;\">\n",
       "      <th></th>\n",
       "      <th>cdc_report_dt</th>\n",
       "      <th>pos_spec_dt</th>\n",
       "      <th>onset_dt</th>\n",
       "      <th>current_status</th>\n",
       "      <th>sex</th>\n",
       "      <th>age_group</th>\n",
       "      <th>Race and ethnicity (combined)</th>\n",
       "      <th>hosp_yn</th>\n",
       "      <th>icu_yn</th>\n",
       "      <th>death_yn</th>\n",
       "      <th>medcond_yn</th>\n",
       "      <th>month</th>\n",
       "      <th>inpatient__occupancy</th>\n",
       "      <th>percent_of_inpatients_with_covid</th>\n",
       "    </tr>\n",
       "  </thead>\n",
       "  <tbody>\n",
       "    <tr>\n",
       "      <th>0</th>\n",
       "      <td>2020/11/14</td>\n",
       "      <td>2020/11/10</td>\n",
       "      <td>2020/11/10</td>\n",
       "      <td>Laboratory-confirmed case</td>\n",
       "      <td>1.0</td>\n",
       "      <td>10 - 19 Years</td>\n",
       "      <td>Black</td>\n",
       "      <td>0.0</td>\n",
       "      <td>0.0</td>\n",
       "      <td>0.0</td>\n",
       "      <td>0.0</td>\n",
       "      <td>11</td>\n",
       "      <td>0.688734</td>\n",
       "      <td>0.151200</td>\n",
       "    </tr>\n",
       "    <tr>\n",
       "      <th>1</th>\n",
       "      <td>2020/11/19</td>\n",
       "      <td>2020/11/10</td>\n",
       "      <td>2020/11/09</td>\n",
       "      <td>Laboratory-confirmed case</td>\n",
       "      <td>1.0</td>\n",
       "      <td>10 - 19 Years</td>\n",
       "      <td>Black</td>\n",
       "      <td>0.0</td>\n",
       "      <td>0.0</td>\n",
       "      <td>0.0</td>\n",
       "      <td>0.0</td>\n",
       "      <td>11</td>\n",
       "      <td>0.688734</td>\n",
       "      <td>0.151200</td>\n",
       "    </tr>\n",
       "    <tr>\n",
       "      <th>2</th>\n",
       "      <td>2020/11/13</td>\n",
       "      <td>2020/11/10</td>\n",
       "      <td>2020/11/10</td>\n",
       "      <td>Laboratory-confirmed case</td>\n",
       "      <td>1.0</td>\n",
       "      <td>10 - 19 Years</td>\n",
       "      <td>Black</td>\n",
       "      <td>0.0</td>\n",
       "      <td>0.0</td>\n",
       "      <td>0.0</td>\n",
       "      <td>1.0</td>\n",
       "      <td>11</td>\n",
       "      <td>0.688734</td>\n",
       "      <td>0.151200</td>\n",
       "    </tr>\n",
       "    <tr>\n",
       "      <th>3</th>\n",
       "      <td>2020/11/09</td>\n",
       "      <td>2020/11/10</td>\n",
       "      <td>2020/11/09</td>\n",
       "      <td>Laboratory-confirmed case</td>\n",
       "      <td>1.0</td>\n",
       "      <td>10 - 19 Years</td>\n",
       "      <td>Black</td>\n",
       "      <td>0.0</td>\n",
       "      <td>0.0</td>\n",
       "      <td>0.0</td>\n",
       "      <td>0.0</td>\n",
       "      <td>11</td>\n",
       "      <td>0.688734</td>\n",
       "      <td>0.151200</td>\n",
       "    </tr>\n",
       "    <tr>\n",
       "      <th>4</th>\n",
       "      <td>2020/11/06</td>\n",
       "      <td>2020/11/10</td>\n",
       "      <td>2020/11/06</td>\n",
       "      <td>Laboratory-confirmed case</td>\n",
       "      <td>1.0</td>\n",
       "      <td>10 - 19 Years</td>\n",
       "      <td>Black</td>\n",
       "      <td>0.0</td>\n",
       "      <td>0.0</td>\n",
       "      <td>0.0</td>\n",
       "      <td>1.0</td>\n",
       "      <td>11</td>\n",
       "      <td>0.688734</td>\n",
       "      <td>0.151200</td>\n",
       "    </tr>\n",
       "    <tr>\n",
       "      <th>...</th>\n",
       "      <td>...</td>\n",
       "      <td>...</td>\n",
       "      <td>...</td>\n",
       "      <td>...</td>\n",
       "      <td>...</td>\n",
       "      <td>...</td>\n",
       "      <td>...</td>\n",
       "      <td>...</td>\n",
       "      <td>...</td>\n",
       "      <td>...</td>\n",
       "      <td>...</td>\n",
       "      <td>...</td>\n",
       "      <td>...</td>\n",
       "      <td>...</td>\n",
       "    </tr>\n",
       "    <tr>\n",
       "      <th>457726</th>\n",
       "      <td>2020/02/17</td>\n",
       "      <td>2020/03/30</td>\n",
       "      <td>2020/02/17</td>\n",
       "      <td>Laboratory-confirmed case</td>\n",
       "      <td>0.0</td>\n",
       "      <td>20 - 29 Years</td>\n",
       "      <td>Hispanic</td>\n",
       "      <td>0.0</td>\n",
       "      <td>0.0</td>\n",
       "      <td>0.0</td>\n",
       "      <td>1.0</td>\n",
       "      <td>2</td>\n",
       "      <td>0.461779</td>\n",
       "      <td>0.004861</td>\n",
       "    </tr>\n",
       "    <tr>\n",
       "      <th>457727</th>\n",
       "      <td>2020/02/29</td>\n",
       "      <td>2020/03/30</td>\n",
       "      <td>2020/02/29</td>\n",
       "      <td>Laboratory-confirmed case</td>\n",
       "      <td>0.0</td>\n",
       "      <td>20 - 29 Years</td>\n",
       "      <td>Hispanic</td>\n",
       "      <td>1.0</td>\n",
       "      <td>1.0</td>\n",
       "      <td>0.0</td>\n",
       "      <td>0.0</td>\n",
       "      <td>2</td>\n",
       "      <td>0.461779</td>\n",
       "      <td>0.004861</td>\n",
       "    </tr>\n",
       "    <tr>\n",
       "      <th>457728</th>\n",
       "      <td>2020/02/29</td>\n",
       "      <td>2020/04/08</td>\n",
       "      <td>2020/02/29</td>\n",
       "      <td>Laboratory-confirmed case</td>\n",
       "      <td>1.0</td>\n",
       "      <td>20 - 29 Years</td>\n",
       "      <td>Hispanic</td>\n",
       "      <td>0.0</td>\n",
       "      <td>0.0</td>\n",
       "      <td>0.0</td>\n",
       "      <td>0.0</td>\n",
       "      <td>2</td>\n",
       "      <td>0.461779</td>\n",
       "      <td>0.004861</td>\n",
       "    </tr>\n",
       "    <tr>\n",
       "      <th>457729</th>\n",
       "      <td>2020/02/11</td>\n",
       "      <td>2020/07/10</td>\n",
       "      <td>2020/02/11</td>\n",
       "      <td>Laboratory-confirmed case</td>\n",
       "      <td>0.0</td>\n",
       "      <td>60 - 69 Years</td>\n",
       "      <td>White</td>\n",
       "      <td>0.0</td>\n",
       "      <td>0.0</td>\n",
       "      <td>0.0</td>\n",
       "      <td>0.0</td>\n",
       "      <td>2</td>\n",
       "      <td>0.461779</td>\n",
       "      <td>0.004861</td>\n",
       "    </tr>\n",
       "    <tr>\n",
       "      <th>457730</th>\n",
       "      <td>2020/02/27</td>\n",
       "      <td>2020/03/11</td>\n",
       "      <td>2020/02/27</td>\n",
       "      <td>Laboratory-confirmed case</td>\n",
       "      <td>1.0</td>\n",
       "      <td>0 - 9 Years</td>\n",
       "      <td>White</td>\n",
       "      <td>0.0</td>\n",
       "      <td>0.0</td>\n",
       "      <td>0.0</td>\n",
       "      <td>0.0</td>\n",
       "      <td>2</td>\n",
       "      <td>0.461779</td>\n",
       "      <td>0.004861</td>\n",
       "    </tr>\n",
       "  </tbody>\n",
       "</table>\n",
       "<p>457731 rows × 14 columns</p>\n",
       "</div>"
      ],
      "text/plain": [
       "       cdc_report_dt pos_spec_dt    onset_dt             current_status  sex  \\\n",
       "0         2020/11/14  2020/11/10  2020/11/10  Laboratory-confirmed case  1.0   \n",
       "1         2020/11/19  2020/11/10  2020/11/09  Laboratory-confirmed case  1.0   \n",
       "2         2020/11/13  2020/11/10  2020/11/10  Laboratory-confirmed case  1.0   \n",
       "3         2020/11/09  2020/11/10  2020/11/09  Laboratory-confirmed case  1.0   \n",
       "4         2020/11/06  2020/11/10  2020/11/06  Laboratory-confirmed case  1.0   \n",
       "...              ...         ...         ...                        ...  ...   \n",
       "457726    2020/02/17  2020/03/30  2020/02/17  Laboratory-confirmed case  0.0   \n",
       "457727    2020/02/29  2020/03/30  2020/02/29  Laboratory-confirmed case  0.0   \n",
       "457728    2020/02/29  2020/04/08  2020/02/29  Laboratory-confirmed case  1.0   \n",
       "457729    2020/02/11  2020/07/10  2020/02/11  Laboratory-confirmed case  0.0   \n",
       "457730    2020/02/27  2020/03/11  2020/02/27  Laboratory-confirmed case  1.0   \n",
       "\n",
       "            age_group Race and ethnicity (combined)  hosp_yn  icu_yn  \\\n",
       "0       10 - 19 Years                         Black      0.0     0.0   \n",
       "1       10 - 19 Years                         Black      0.0     0.0   \n",
       "2       10 - 19 Years                         Black      0.0     0.0   \n",
       "3       10 - 19 Years                         Black      0.0     0.0   \n",
       "4       10 - 19 Years                         Black      0.0     0.0   \n",
       "...               ...                           ...      ...     ...   \n",
       "457726  20 - 29 Years                      Hispanic      0.0     0.0   \n",
       "457727  20 - 29 Years                      Hispanic      1.0     1.0   \n",
       "457728  20 - 29 Years                      Hispanic      0.0     0.0   \n",
       "457729  60 - 69 Years                         White      0.0     0.0   \n",
       "457730    0 - 9 Years                         White      0.0     0.0   \n",
       "\n",
       "        death_yn  medcond_yn  month  inpatient__occupancy  \\\n",
       "0            0.0         0.0     11              0.688734   \n",
       "1            0.0         0.0     11              0.688734   \n",
       "2            0.0         1.0     11              0.688734   \n",
       "3            0.0         0.0     11              0.688734   \n",
       "4            0.0         1.0     11              0.688734   \n",
       "...          ...         ...    ...                   ...   \n",
       "457726       0.0         1.0      2              0.461779   \n",
       "457727       0.0         0.0      2              0.461779   \n",
       "457728       0.0         0.0      2              0.461779   \n",
       "457729       0.0         0.0      2              0.461779   \n",
       "457730       0.0         0.0      2              0.461779   \n",
       "\n",
       "        percent_of_inpatients_with_covid  \n",
       "0                               0.151200  \n",
       "1                               0.151200  \n",
       "2                               0.151200  \n",
       "3                               0.151200  \n",
       "4                               0.151200  \n",
       "...                                  ...  \n",
       "457726                          0.004861  \n",
       "457727                          0.004861  \n",
       "457728                          0.004861  \n",
       "457729                          0.004861  \n",
       "457730                          0.004861  \n",
       "\n",
       "[457731 rows x 14 columns]"
      ]
     },
     "execution_count": 2,
     "metadata": {},
     "output_type": "execute_result"
    }
   ],
   "source": [
    "#reading the file\n",
    "#MUST CHANGE FILEPATH TO 'data/clean_data.csv'\n",
    "file = pd.read_csv('covid/data/clean_data.csv')\n",
    "\n",
    "file"
   ]
  },
  {
   "cell_type": "code",
   "execution_count": 3,
   "metadata": {},
   "outputs": [
    {
     "data": {
      "text/html": [
       "<div>\n",
       "<style scoped>\n",
       "    .dataframe tbody tr th:only-of-type {\n",
       "        vertical-align: middle;\n",
       "    }\n",
       "\n",
       "    .dataframe tbody tr th {\n",
       "        vertical-align: top;\n",
       "    }\n",
       "\n",
       "    .dataframe thead th {\n",
       "        text-align: right;\n",
       "    }\n",
       "</style>\n",
       "<table border=\"1\" class=\"dataframe\">\n",
       "  <thead>\n",
       "    <tr style=\"text-align: right;\">\n",
       "      <th></th>\n",
       "      <th></th>\n",
       "      <th>death_yn</th>\n",
       "    </tr>\n",
       "    <tr>\n",
       "      <th>month</th>\n",
       "      <th>Race and ethnicity (combined)</th>\n",
       "      <th></th>\n",
       "    </tr>\n",
       "  </thead>\n",
       "  <tbody>\n",
       "    <tr>\n",
       "      <th rowspan=\"4\" valign=\"top\">1</th>\n",
       "      <th>Asian</th>\n",
       "      <td>4</td>\n",
       "    </tr>\n",
       "    <tr>\n",
       "      <th>Black</th>\n",
       "      <td>3</td>\n",
       "    </tr>\n",
       "    <tr>\n",
       "      <th>Hispanic</th>\n",
       "      <td>2</td>\n",
       "    </tr>\n",
       "    <tr>\n",
       "      <th>White</th>\n",
       "      <td>7</td>\n",
       "    </tr>\n",
       "    <tr>\n",
       "      <th>2</th>\n",
       "      <th>Asian</th>\n",
       "      <td>6</td>\n",
       "    </tr>\n",
       "    <tr>\n",
       "      <th>...</th>\n",
       "      <th>...</th>\n",
       "      <td>...</td>\n",
       "    </tr>\n",
       "    <tr>\n",
       "      <th rowspan=\"5\" valign=\"top\">11</th>\n",
       "      <th>Hispanic</th>\n",
       "      <td>10413</td>\n",
       "    </tr>\n",
       "    <tr>\n",
       "      <th>Native</th>\n",
       "      <td>187</td>\n",
       "    </tr>\n",
       "    <tr>\n",
       "      <th>Other</th>\n",
       "      <td>2097</td>\n",
       "    </tr>\n",
       "    <tr>\n",
       "      <th>Pacific Islander</th>\n",
       "      <td>313</td>\n",
       "    </tr>\n",
       "    <tr>\n",
       "      <th>White</th>\n",
       "      <td>50205</td>\n",
       "    </tr>\n",
       "  </tbody>\n",
       "</table>\n",
       "<p>72 rows × 1 columns</p>\n",
       "</div>"
      ],
      "text/plain": [
       "                                     death_yn\n",
       "month Race and ethnicity (combined)          \n",
       "1     Asian                                 4\n",
       "      Black                                 3\n",
       "      Hispanic                              2\n",
       "      White                                 7\n",
       "2     Asian                                 6\n",
       "...                                       ...\n",
       "11    Hispanic                          10413\n",
       "      Native                              187\n",
       "      Other                              2097\n",
       "      Pacific Islander                    313\n",
       "      White                             50205\n",
       "\n",
       "[72 rows x 1 columns]"
      ]
     },
     "execution_count": 3,
     "metadata": {},
     "output_type": "execute_result"
    }
   ],
   "source": [
    "#organizing different enthnicities by month\n",
    "\n",
    "dates = file[['month','Race and ethnicity (combined)',\"death_yn\"]]\n",
    "\n",
    "total_cases_by_month = dates.groupby(['month','Race and ethnicity (combined)']).count()\n",
    "total_cases_by_month"
   ]
  },
  {
   "cell_type": "code",
   "execution_count": 4,
   "metadata": {},
   "outputs": [
    {
     "data": {
      "text/html": [
       "<div>\n",
       "<style scoped>\n",
       "    .dataframe tbody tr th:only-of-type {\n",
       "        vertical-align: middle;\n",
       "    }\n",
       "\n",
       "    .dataframe tbody tr th {\n",
       "        vertical-align: top;\n",
       "    }\n",
       "\n",
       "    .dataframe thead th {\n",
       "        text-align: right;\n",
       "    }\n",
       "</style>\n",
       "<table border=\"1\" class=\"dataframe\">\n",
       "  <thead>\n",
       "    <tr style=\"text-align: right;\">\n",
       "      <th></th>\n",
       "      <th>death_yn</th>\n",
       "    </tr>\n",
       "    <tr>\n",
       "      <th>month</th>\n",
       "      <th></th>\n",
       "    </tr>\n",
       "  </thead>\n",
       "  <tbody>\n",
       "    <tr>\n",
       "      <th>1</th>\n",
       "      <td>0.0</td>\n",
       "    </tr>\n",
       "    <tr>\n",
       "      <th>2</th>\n",
       "      <td>16.0</td>\n",
       "    </tr>\n",
       "    <tr>\n",
       "      <th>3</th>\n",
       "      <td>2925.0</td>\n",
       "    </tr>\n",
       "    <tr>\n",
       "      <th>4</th>\n",
       "      <td>5574.0</td>\n",
       "    </tr>\n",
       "    <tr>\n",
       "      <th>5</th>\n",
       "      <td>3374.0</td>\n",
       "    </tr>\n",
       "    <tr>\n",
       "      <th>6</th>\n",
       "      <td>8381.0</td>\n",
       "    </tr>\n",
       "    <tr>\n",
       "      <th>7</th>\n",
       "      <td>2524.0</td>\n",
       "    </tr>\n",
       "    <tr>\n",
       "      <th>8</th>\n",
       "      <td>2057.0</td>\n",
       "    </tr>\n",
       "    <tr>\n",
       "      <th>9</th>\n",
       "      <td>1395.0</td>\n",
       "    </tr>\n",
       "    <tr>\n",
       "      <th>10</th>\n",
       "      <td>1900.0</td>\n",
       "    </tr>\n",
       "    <tr>\n",
       "      <th>11</th>\n",
       "      <td>1023.0</td>\n",
       "    </tr>\n",
       "  </tbody>\n",
       "</table>\n",
       "</div>"
      ],
      "text/plain": [
       "       death_yn\n",
       "month          \n",
       "1           0.0\n",
       "2          16.0\n",
       "3        2925.0\n",
       "4        5574.0\n",
       "5        3374.0\n",
       "6        8381.0\n",
       "7        2524.0\n",
       "8        2057.0\n",
       "9        1395.0\n",
       "10       1900.0\n",
       "11       1023.0"
      ]
     },
     "execution_count": 4,
     "metadata": {},
     "output_type": "execute_result"
    }
   ],
   "source": [
    "#pulling out just the deaths\n",
    "deaths = dates.groupby(dates[\"month\"]).sum()\n",
    "deaths"
   ]
  },
  {
   "cell_type": "code",
   "execution_count": 5,
   "metadata": {},
   "outputs": [
    {
     "data": {
      "text/html": [
       "<div>\n",
       "<style scoped>\n",
       "    .dataframe tbody tr th:only-of-type {\n",
       "        vertical-align: middle;\n",
       "    }\n",
       "\n",
       "    .dataframe tbody tr th {\n",
       "        vertical-align: top;\n",
       "    }\n",
       "\n",
       "    .dataframe thead tr th {\n",
       "        text-align: left;\n",
       "    }\n",
       "\n",
       "    .dataframe thead tr:last-of-type th {\n",
       "        text-align: right;\n",
       "    }\n",
       "</style>\n",
       "<table border=\"1\" class=\"dataframe\">\n",
       "  <thead>\n",
       "    <tr>\n",
       "      <th></th>\n",
       "      <th colspan=\"7\" halign=\"left\">death_yn</th>\n",
       "    </tr>\n",
       "    <tr>\n",
       "      <th>Race and ethnicity (combined)</th>\n",
       "      <th>Asian</th>\n",
       "      <th>Black</th>\n",
       "      <th>Hispanic</th>\n",
       "      <th>Native</th>\n",
       "      <th>Other</th>\n",
       "      <th>Pacific Islander</th>\n",
       "      <th>White</th>\n",
       "    </tr>\n",
       "    <tr>\n",
       "      <th>month</th>\n",
       "      <th></th>\n",
       "      <th></th>\n",
       "      <th></th>\n",
       "      <th></th>\n",
       "      <th></th>\n",
       "      <th></th>\n",
       "      <th></th>\n",
       "    </tr>\n",
       "  </thead>\n",
       "  <tbody>\n",
       "    <tr>\n",
       "      <th>1</th>\n",
       "      <td>0.0</td>\n",
       "      <td>0.0</td>\n",
       "      <td>0.0</td>\n",
       "      <td>NaN</td>\n",
       "      <td>NaN</td>\n",
       "      <td>NaN</td>\n",
       "      <td>0.0</td>\n",
       "    </tr>\n",
       "    <tr>\n",
       "      <th>2</th>\n",
       "      <td>0.0</td>\n",
       "      <td>6.0</td>\n",
       "      <td>4.0</td>\n",
       "      <td>NaN</td>\n",
       "      <td>0.0</td>\n",
       "      <td>NaN</td>\n",
       "      <td>6.0</td>\n",
       "    </tr>\n",
       "    <tr>\n",
       "      <th>3</th>\n",
       "      <td>195.0</td>\n",
       "      <td>781.0</td>\n",
       "      <td>759.0</td>\n",
       "      <td>3.0</td>\n",
       "      <td>147.0</td>\n",
       "      <td>6.0</td>\n",
       "      <td>1034.0</td>\n",
       "    </tr>\n",
       "    <tr>\n",
       "      <th>4</th>\n",
       "      <td>235.0</td>\n",
       "      <td>1133.0</td>\n",
       "      <td>1067.0</td>\n",
       "      <td>12.0</td>\n",
       "      <td>295.0</td>\n",
       "      <td>12.0</td>\n",
       "      <td>2820.0</td>\n",
       "    </tr>\n",
       "    <tr>\n",
       "      <th>5</th>\n",
       "      <td>123.0</td>\n",
       "      <td>598.0</td>\n",
       "      <td>333.0</td>\n",
       "      <td>35.0</td>\n",
       "      <td>117.0</td>\n",
       "      <td>26.0</td>\n",
       "      <td>2142.0</td>\n",
       "    </tr>\n",
       "    <tr>\n",
       "      <th>6</th>\n",
       "      <td>466.0</td>\n",
       "      <td>1894.0</td>\n",
       "      <td>1642.0</td>\n",
       "      <td>23.0</td>\n",
       "      <td>117.0</td>\n",
       "      <td>23.0</td>\n",
       "      <td>4216.0</td>\n",
       "    </tr>\n",
       "    <tr>\n",
       "      <th>7</th>\n",
       "      <td>99.0</td>\n",
       "      <td>626.0</td>\n",
       "      <td>399.0</td>\n",
       "      <td>25.0</td>\n",
       "      <td>49.0</td>\n",
       "      <td>16.0</td>\n",
       "      <td>1310.0</td>\n",
       "    </tr>\n",
       "    <tr>\n",
       "      <th>8</th>\n",
       "      <td>50.0</td>\n",
       "      <td>321.0</td>\n",
       "      <td>189.0</td>\n",
       "      <td>15.0</td>\n",
       "      <td>33.0</td>\n",
       "      <td>13.0</td>\n",
       "      <td>1436.0</td>\n",
       "    </tr>\n",
       "    <tr>\n",
       "      <th>9</th>\n",
       "      <td>37.0</td>\n",
       "      <td>188.0</td>\n",
       "      <td>113.0</td>\n",
       "      <td>15.0</td>\n",
       "      <td>24.0</td>\n",
       "      <td>8.0</td>\n",
       "      <td>1010.0</td>\n",
       "    </tr>\n",
       "    <tr>\n",
       "      <th>10</th>\n",
       "      <td>34.0</td>\n",
       "      <td>200.0</td>\n",
       "      <td>103.0</td>\n",
       "      <td>18.0</td>\n",
       "      <td>42.0</td>\n",
       "      <td>4.0</td>\n",
       "      <td>1499.0</td>\n",
       "    </tr>\n",
       "    <tr>\n",
       "      <th>11</th>\n",
       "      <td>13.0</td>\n",
       "      <td>95.0</td>\n",
       "      <td>62.0</td>\n",
       "      <td>4.0</td>\n",
       "      <td>36.0</td>\n",
       "      <td>3.0</td>\n",
       "      <td>810.0</td>\n",
       "    </tr>\n",
       "  </tbody>\n",
       "</table>\n",
       "</div>"
      ],
      "text/plain": [
       "                              death_yn                                 \\\n",
       "Race and ethnicity (combined)    Asian   Black Hispanic Native  Other   \n",
       "month                                                                   \n",
       "1                                  0.0     0.0      0.0    NaN    NaN   \n",
       "2                                  0.0     6.0      4.0    NaN    0.0   \n",
       "3                                195.0   781.0    759.0    3.0  147.0   \n",
       "4                                235.0  1133.0   1067.0   12.0  295.0   \n",
       "5                                123.0   598.0    333.0   35.0  117.0   \n",
       "6                                466.0  1894.0   1642.0   23.0  117.0   \n",
       "7                                 99.0   626.0    399.0   25.0   49.0   \n",
       "8                                 50.0   321.0    189.0   15.0   33.0   \n",
       "9                                 37.0   188.0    113.0   15.0   24.0   \n",
       "10                                34.0   200.0    103.0   18.0   42.0   \n",
       "11                                13.0    95.0     62.0    4.0   36.0   \n",
       "\n",
       "                                                        \n",
       "Race and ethnicity (combined) Pacific Islander   White  \n",
       "month                                                   \n",
       "1                                          NaN     0.0  \n",
       "2                                          NaN     6.0  \n",
       "3                                          6.0  1034.0  \n",
       "4                                         12.0  2820.0  \n",
       "5                                         26.0  2142.0  \n",
       "6                                         23.0  4216.0  \n",
       "7                                         16.0  1310.0  \n",
       "8                                         13.0  1436.0  \n",
       "9                                          8.0  1010.0  \n",
       "10                                         4.0  1499.0  \n",
       "11                                         3.0   810.0  "
      ]
     },
     "execution_count": 5,
     "metadata": {},
     "output_type": "execute_result"
    }
   ],
   "source": [
    "#getting the deaths of different races\n",
    "ethnicity = dates.groupby([dates['month'],dates['Race and ethnicity (combined)']]).sum()\n",
    "#getting the total cases of different races\n",
    "ethnic_story = dates.groupby([dates['month'],dates['Race and ethnicity (combined)']]).count()\n",
    "ethnic_story = ethnic_story.unstack()\n",
    "ethnicity = ethnicity.unstack()\n",
    "ethnicity"
   ]
  },
  {
   "cell_type": "code",
   "execution_count": 6,
   "metadata": {},
   "outputs": [
    {
     "data": {
      "text/plain": [
       "Race and ethnicity (combined)\n",
       "Asian                13515\n",
       "Black                55636\n",
       "Hispanic             97731\n",
       "Native                1643\n",
       "Other                13544\n",
       "Pacific Islander      2648\n",
       "White               273014\n",
       "Name: death_yn, dtype: int64"
      ]
     },
     "execution_count": 6,
     "metadata": {},
     "output_type": "execute_result"
    }
   ],
   "source": [
    "#organizing data into pie charts\n",
    "pie_chart = file.groupby(\"Race and ethnicity (combined)\")[\"death_yn\"].sum()\n",
    "cases = file.groupby(\"Race and ethnicity (combined)\")[\"death_yn\"].count()\n",
    "#pie_chart\n",
    "cases"
   ]
  },
  {
   "cell_type": "code",
   "execution_count": 37,
   "metadata": {},
   "outputs": [
    {
     "data": {
      "image/png": "[encoded data removed]",
      "text/plain": [
       "<Figure size 432x288 with 1 Axes>"
      ]
     },
     "metadata": {},
     "output_type": "display_data"
    }
   ],
   "source": [
    "#plotting the pie chart\n",
    "plot = pie_chart.plot.pie(y=pie_chart[1], autopct='%.2f',title=\"Covid Deaths of Different Races\")"
   ]
  },
  {
   "cell_type": "code",
   "execution_count": 38,
   "metadata": {},
   "outputs": [
    {
     "data": {
      "image/png": "[encoded data removed]",
      "text/plain": [
       "<Figure size 432x288 with 1 Axes>"
      ]
     },
     "metadata": {},
     "output_type": "display_data"
    }
   ],
   "source": [
    "#displaying the percentage of total cases by ethnicity\n",
    "plot = cases.plot.pie(y=pie_chart[1], autopct=\"%.2f\", title=\"Total Cases of Different Ethnicities\")"
   ]
  },
  {
   "cell_type": "code",
   "execution_count": 9,
   "metadata": {},
   "outputs": [
    {
     "data": {
      "text/html": [
       "<div>\n",
       "<style scoped>\n",
       "    .dataframe tbody tr th:only-of-type {\n",
       "        vertical-align: middle;\n",
       "    }\n",
       "\n",
       "    .dataframe tbody tr th {\n",
       "        vertical-align: top;\n",
       "    }\n",
       "\n",
       "    .dataframe thead th {\n",
       "        text-align: right;\n",
       "    }\n",
       "</style>\n",
       "<table border=\"1\" class=\"dataframe\">\n",
       "  <thead>\n",
       "    <tr style=\"text-align: right;\">\n",
       "      <th></th>\n",
       "      <th>death_yn</th>\n",
       "      <th>total cases</th>\n",
       "    </tr>\n",
       "    <tr>\n",
       "      <th>Race and ethnicity (combined)</th>\n",
       "      <th></th>\n",
       "      <th></th>\n",
       "    </tr>\n",
       "  </thead>\n",
       "  <tbody>\n",
       "    <tr>\n",
       "      <th>Asian</th>\n",
       "      <td>1252.0</td>\n",
       "      <td>13515</td>\n",
       "    </tr>\n",
       "    <tr>\n",
       "      <th>Black</th>\n",
       "      <td>5842.0</td>\n",
       "      <td>55636</td>\n",
       "    </tr>\n",
       "    <tr>\n",
       "      <th>Hispanic</th>\n",
       "      <td>4671.0</td>\n",
       "      <td>97731</td>\n",
       "    </tr>\n",
       "    <tr>\n",
       "      <th>Native</th>\n",
       "      <td>150.0</td>\n",
       "      <td>1643</td>\n",
       "    </tr>\n",
       "    <tr>\n",
       "      <th>Other</th>\n",
       "      <td>860.0</td>\n",
       "      <td>13544</td>\n",
       "    </tr>\n",
       "    <tr>\n",
       "      <th>Pacific Islander</th>\n",
       "      <td>111.0</td>\n",
       "      <td>2648</td>\n",
       "    </tr>\n",
       "    <tr>\n",
       "      <th>White</th>\n",
       "      <td>16283.0</td>\n",
       "      <td>273014</td>\n",
       "    </tr>\n",
       "  </tbody>\n",
       "</table>\n",
       "</div>"
      ],
      "text/plain": [
       "                               death_yn  total cases\n",
       "Race and ethnicity (combined)                       \n",
       "Asian                            1252.0        13515\n",
       "Black                            5842.0        55636\n",
       "Hispanic                         4671.0        97731\n",
       "Native                            150.0         1643\n",
       "Other                             860.0        13544\n",
       "Pacific Islander                  111.0         2648\n",
       "White                           16283.0       273014"
      ]
     },
     "execution_count": 9,
     "metadata": {},
     "output_type": "execute_result"
    }
   ],
   "source": [
    "#building a bar graph of the cases and deaths to compare percentages\n",
    "bar_df = pd.DataFrame(pie_chart)\n",
    "bar_df['total cases'] = cases\n",
    "bar_df"
   ]
  },
  {
   "cell_type": "code",
   "execution_count": 10,
   "metadata": {},
   "outputs": [
    {
     "data": {
      "image/png": "[encoded data removed]",
      "text/plain": [
       "<Figure size 1080x576 with 1 Axes>"
      ]
     },
     "metadata": {
      "needs_background": "light"
     },
     "output_type": "display_data"
    }
   ],
   "source": [
    "#displaying the bar graph\n",
    "bar_graph = bar_df.plot.bar(figsize=(15,8))"
   ]
  },
  {
   "cell_type": "code",
   "execution_count": 45,
   "metadata": {},
   "outputs": [
    {
     "data": {
      "image/png": "[encoded data removed]",
      "text/plain": [
       "<Figure size 432x288 with 1 Axes>"
      ]
     },
     "metadata": {},
     "output_type": "display_data"
    }
   ],
   "source": [
    "#survival rate of cases vs deaths for Asian people\n",
    "pie_chart_asian = [bar_df['death_yn']['Asian'],\n",
    "                   (bar_df['total cases']['Asian']-bar_df['death_yn']['Asian'])]\n",
    "pie_chart_asian\n",
    "\n",
    "plt.title(\"Deaths of Asians\")\n",
    "chart = plt.pie(pie_chart_asian,autopct='%.2f')"
   ]
  },
  {
   "cell_type": "code",
   "execution_count": 46,
   "metadata": {},
   "outputs": [
    {
     "data": {
      "image/png": "[encoded data removed]",
      "text/plain": [
       "<Figure size 432x288 with 1 Axes>"
      ]
     },
     "metadata": {},
     "output_type": "display_data"
    }
   ],
   "source": [
    "#survival rate of Black people\n",
    "pie_chart_black = [bar_df['death_yn']['Black'],\n",
    "                   (bar_df['total cases']['Black']-bar_df['death_yn']['Black'])]\n",
    "pie_chart_black\n",
    "plt.title(\"Deaths of Black People\")\n",
    "chart = plt.pie(pie_chart_black,autopct='%.2f')"
   ]
  },
  {
   "cell_type": "code",
   "execution_count": 47,
   "metadata": {},
   "outputs": [
    {
     "data": {
      "image/png": "[encoded data removed]",
      "text/plain": [
       "<Figure size 432x288 with 1 Axes>"
      ]
     },
     "metadata": {},
     "output_type": "display_data"
    }
   ],
   "source": [
    "#survival rate of Hispanic people\n",
    "pie_chart_hisp = [bar_df['death_yn']['Hispanic'],\n",
    "                   (bar_df['total cases']['Hispanic']-bar_df['death_yn']['Hispanic'])]\n",
    "pie_chart_hisp\n",
    "plt.title('Deaths of Hispanic People')\n",
    "chart = plt.pie(pie_chart_hisp,autopct='%.2f')"
   ]
  },
  {
   "cell_type": "code",
   "execution_count": 48,
   "metadata": {},
   "outputs": [
    {
     "data": {
      "image/png": "[encoded data removed]",
      "text/plain": [
       "<Figure size 432x288 with 1 Axes>"
      ]
     },
     "metadata": {},
     "output_type": "display_data"
    }
   ],
   "source": [
    "#survival rate of Native American people\n",
    "pie_chart_native = [bar_df['death_yn']['Native'],\n",
    "                   (bar_df['total cases']['Native']-bar_df['death_yn']['Native'])]\n",
    "pie_chart_native\n",
    "plt.title('Deaths of Native Americans')\n",
    "chart = plt.pie(pie_chart_native,autopct='%.2f')"
   ]
  },
  {
   "cell_type": "code",
   "execution_count": 49,
   "metadata": {},
   "outputs": [
    {
     "data": {
      "image/png": "[encoded data removed]",
      "text/plain": [
       "<Figure size 432x288 with 1 Axes>"
      ]
     },
     "metadata": {},
     "output_type": "display_data"
    }
   ],
   "source": [
    "#survival rate of the group of people of other ethnicity\n",
    "pie_chart_other = [bar_df['death_yn']['Other'],\n",
    "                   (bar_df['total cases']['Other']-bar_df['death_yn']['Other'])]\n",
    "pie_chart_other\n",
    "plt.title(\"Deaths of Other Races\")\n",
    "chart = plt.pie(pie_chart_other,autopct='%.2f')"
   ]
  },
  {
   "cell_type": "code",
   "execution_count": 50,
   "metadata": {},
   "outputs": [
    {
     "data": {
      "image/png": "[encoded data removed]",
      "text/plain": [
       "<Figure size 432x288 with 1 Axes>"
      ]
     },
     "metadata": {},
     "output_type": "display_data"
    }
   ],
   "source": [
    "#suvival rate of Pacific Islander people\n",
    "pie_chart_pac = [bar_df['death_yn']['Pacific Islander'],\n",
    "                   (bar_df['total cases']['Pacific Islander']-bar_df['death_yn']['Pacific Islander'])]\n",
    "pie_chart_pac\n",
    "plt.title(\"Deaths of Pacific Islanders\")\n",
    "chart = plt.pie(pie_chart_pac,autopct='%.2f')"
   ]
  },
  {
   "cell_type": "code",
   "execution_count": 51,
   "metadata": {},
   "outputs": [
    {
     "data": {
      "image/png": "[encoded data removed]",
      "text/plain": [
       "<Figure size 432x288 with 1 Axes>"
      ]
     },
     "metadata": {},
     "output_type": "display_data"
    }
   ],
   "source": [
    "#survival rate of White people\n",
    "pie_chart_white = [bar_df['death_yn']['White'],\n",
    "                   (bar_df['total cases']['White']-bar_df['death_yn']['White'])]\n",
    "pie_chart_white\n",
    "plt.title(\"Deaths of White People\")\n",
    "chart = plt.pie(pie_chart_white,autopct='%.2f')"
   ]
  },
  {
   "cell_type": "markdown",
   "metadata": {},
   "source": [
    "### Going through all the pie charts there are some interesting notes to take.\n",
    "The deaths of Pacific Islanders in our data set are only 4.19% of the cases of Pacific Islanders.\n",
    "White people, Hispanic people, and other races have a ~5-7% death rate in this data set, but native Americans and black people have a relatively high death rate of around 10%. This could be due to access to proper healthcare, but that wouldn't explain why hispanic people die less often than white people when white people more frequently have health insurance(1).\n",
    "Perhaps hispanic people have different a different reaction to Covid-19 than other races, or perhaps culturally they treat their sick ones differently than other races.\n",
    "\n",
    "1: https://www.statista.com/statistics/200970/percentage-of-americans-without-health-insurance-by-race-ethnicity/"
   ]
  },
  {
   "cell_type": "code",
   "execution_count": 52,
   "metadata": {},
   "outputs": [],
   "source": [
    "#building a dataframe of months and different races deaths\n",
    "#which I already did in my other file\n",
    "time=file[['Race and ethnicity (combined)','month','death_yn']]"
   ]
  },
  {
   "cell_type": "code",
   "execution_count": 53,
   "metadata": {},
   "outputs": [
    {
     "data": {
      "text/html": [
       "<div>\n",
       "<style scoped>\n",
       "    .dataframe tbody tr th:only-of-type {\n",
       "        vertical-align: middle;\n",
       "    }\n",
       "\n",
       "    .dataframe tbody tr th {\n",
       "        vertical-align: top;\n",
       "    }\n",
       "\n",
       "    .dataframe thead th {\n",
       "        text-align: right;\n",
       "    }\n",
       "</style>\n",
       "<table border=\"1\" class=\"dataframe\">\n",
       "  <thead>\n",
       "    <tr style=\"text-align: right;\">\n",
       "      <th></th>\n",
       "      <th>Ethnicity</th>\n",
       "      <th>Total Population</th>\n",
       "      <th>Percentage of US Population</th>\n",
       "      <th>Percentage of Total Cases</th>\n",
       "      <th>Percentage of Total Deaths</th>\n",
       "      <th>Percentage of Ethnicity Reporting Covid</th>\n",
       "    </tr>\n",
       "  </thead>\n",
       "  <tbody>\n",
       "    <tr>\n",
       "      <th>0</th>\n",
       "      <td>White</td>\n",
       "      <td>200226109</td>\n",
       "      <td>60.1</td>\n",
       "      <td>59.65</td>\n",
       "      <td>55.82</td>\n",
       "      <td>0.1360</td>\n",
       "    </tr>\n",
       "    <tr>\n",
       "      <th>1</th>\n",
       "      <td>Hispanic</td>\n",
       "      <td>60724311</td>\n",
       "      <td>18.5</td>\n",
       "      <td>21.35</td>\n",
       "      <td>16.01</td>\n",
       "      <td>0.1600</td>\n",
       "    </tr>\n",
       "    <tr>\n",
       "      <th>2</th>\n",
       "      <td>Black</td>\n",
       "      <td>43984096</td>\n",
       "      <td>13.4</td>\n",
       "      <td>12.15</td>\n",
       "      <td>20.03</td>\n",
       "      <td>0.1260</td>\n",
       "    </tr>\n",
       "    <tr>\n",
       "      <th>3</th>\n",
       "      <td>Asian</td>\n",
       "      <td>12366132</td>\n",
       "      <td>5.9</td>\n",
       "      <td>2.95</td>\n",
       "      <td>4.29</td>\n",
       "      <td>0.0697</td>\n",
       "    </tr>\n",
       "    <tr>\n",
       "      <th>4</th>\n",
       "      <td>Native American</td>\n",
       "      <td>4267114</td>\n",
       "      <td>1.3</td>\n",
       "      <td>0.36</td>\n",
       "      <td>0.51</td>\n",
       "      <td>0.0385</td>\n",
       "    </tr>\n",
       "    <tr>\n",
       "      <th>5</th>\n",
       "      <td>Pacific Islander</td>\n",
       "      <td>656479</td>\n",
       "      <td>0.2</td>\n",
       "      <td>0.56</td>\n",
       "      <td>0.36</td>\n",
       "      <td>0.0620</td>\n",
       "    </tr>\n",
       "    <tr>\n",
       "      <th>6</th>\n",
       "      <td>Other</td>\n",
       "      <td>1969437</td>\n",
       "      <td>0.6</td>\n",
       "      <td>NaN</td>\n",
       "      <td>NaN</td>\n",
       "      <td>NaN</td>\n",
       "    </tr>\n",
       "  </tbody>\n",
       "</table>\n",
       "</div>"
      ],
      "text/plain": [
       "          Ethnicity  Total Population  Percentage of US Population  \\\n",
       "0             White         200226109                         60.1   \n",
       "1          Hispanic          60724311                         18.5   \n",
       "2             Black          43984096                         13.4   \n",
       "3             Asian          12366132                          5.9   \n",
       "4   Native American           4267114                          1.3   \n",
       "5  Pacific Islander            656479                          0.2   \n",
       "6             Other           1969437                          0.6   \n",
       "\n",
       "   Percentage of Total Cases  Percentage of Total Deaths  \\\n",
       "0                      59.65                       55.82   \n",
       "1                      21.35                       16.01   \n",
       "2                      12.15                       20.03   \n",
       "3                       2.95                        4.29   \n",
       "4                       0.36                        0.51   \n",
       "5                       0.56                        0.36   \n",
       "6                        NaN                         NaN   \n",
       "\n",
       "   Percentage of Ethnicity Reporting Covid  \n",
       "0                                   0.1360  \n",
       "1                                   0.1600  \n",
       "2                                   0.1260  \n",
       "3                                   0.0697  \n",
       "4                                   0.0385  \n",
       "5                                   0.0620  \n",
       "6                                      NaN  "
      ]
     },
     "execution_count": 53,
     "metadata": {},
     "output_type": "execute_result"
    }
   ],
   "source": [
    "#putting together a dataframe of \n",
    "#information from the census and my findings\n",
    "population_info = {\"Ethnicity\":['White','Hispanic','Black','Asian','Native American','Pacific Islander','Other'],\n",
    "                  'Total Population':[200226109,60724311,43984096,12366132,4267114,656479,1969437],\n",
    "                  'Percentage of US Population':[60.1,18.5,13.4,5.9,1.3,0.2,0.6],\n",
    "                  'Percentage of Total Cases':[59.65,21.35,12.15,2.95,0.36,0.56,np.nan],\n",
    "                  'Percentage of Total Deaths':[55.82,16.01,20.03,4.29,0.51,0.36,np.nan],\n",
    "                  'Percentage of Ethnicity Reporting Covid':[0.136,0.16,0.126,0.0697,0.0385,0.062,np.nan]}\n",
    "population_df = pd.DataFrame(population_info)\n",
    "population_df"
   ]
  },
  {
   "cell_type": "markdown",
   "metadata": {},
   "source": [
    "# Percentages of populations\n",
    "In this chart I wanted to collate some data I found both in my research and from the census. Since I noticed that hispanic people tend to survive more often I wanted to actually dig into the numbers a little bit. Here you can see that while hispanic people only account for 18.5% of the total US population, they had 21.35% of the cases of covid in our data set. Interestingly, they only have 16.01% of the deaths in our data set. Which is a lower percentage than that of their respective part of the total US population. So what we're seeing here is that hispanic people are suviving more than other races, despite being less insured.\n",
    "\n",
    "Interestingly, Asian people have presumably been much more responsible about social distancing, as their percentage of the total cases is about half of their percentage of the total US population. \n",
    "\n",
    "Black people have been hit the hardest, with 20% of the total deaths from covid, while only making up 13.4% of the total population.\n",
    "\n",
    "1: https://www.census.gov/quickfacts/fact/table/US/RHI725219"
   ]
  },
  {
   "cell_type": "code",
   "execution_count": 54,
   "metadata": {},
   "outputs": [
    {
     "data": {
      "text/html": [
       "<div>\n",
       "<style scoped>\n",
       "    .dataframe tbody tr th:only-of-type {\n",
       "        vertical-align: middle;\n",
       "    }\n",
       "\n",
       "    .dataframe tbody tr th {\n",
       "        vertical-align: top;\n",
       "    }\n",
       "\n",
       "    .dataframe thead tr th {\n",
       "        text-align: left;\n",
       "    }\n",
       "\n",
       "    .dataframe thead tr:last-of-type th {\n",
       "        text-align: right;\n",
       "    }\n",
       "</style>\n",
       "<table border=\"1\" class=\"dataframe\">\n",
       "  <thead>\n",
       "    <tr>\n",
       "      <th></th>\n",
       "      <th colspan=\"7\" halign=\"left\">death_yn</th>\n",
       "    </tr>\n",
       "    <tr>\n",
       "      <th>Race and ethnicity (combined)</th>\n",
       "      <th>Asian</th>\n",
       "      <th>Black</th>\n",
       "      <th>Hispanic</th>\n",
       "      <th>Native</th>\n",
       "      <th>Other</th>\n",
       "      <th>Pacific Islander</th>\n",
       "      <th>White</th>\n",
       "    </tr>\n",
       "    <tr>\n",
       "      <th>sex</th>\n",
       "      <th></th>\n",
       "      <th></th>\n",
       "      <th></th>\n",
       "      <th></th>\n",
       "      <th></th>\n",
       "      <th></th>\n",
       "      <th></th>\n",
       "    </tr>\n",
       "  </thead>\n",
       "  <tbody>\n",
       "    <tr>\n",
       "      <th>0.0</th>\n",
       "      <td>472.0</td>\n",
       "      <td>2680.0</td>\n",
       "      <td>1553.0</td>\n",
       "      <td>69.0</td>\n",
       "      <td>330.0</td>\n",
       "      <td>31.0</td>\n",
       "      <td>7261.0</td>\n",
       "    </tr>\n",
       "    <tr>\n",
       "      <th>1.0</th>\n",
       "      <td>780.0</td>\n",
       "      <td>3162.0</td>\n",
       "      <td>3118.0</td>\n",
       "      <td>81.0</td>\n",
       "      <td>530.0</td>\n",
       "      <td>80.0</td>\n",
       "      <td>9022.0</td>\n",
       "    </tr>\n",
       "  </tbody>\n",
       "</table>\n",
       "</div>"
      ],
      "text/plain": [
       "                              death_yn                                 \\\n",
       "Race and ethnicity (combined)    Asian   Black Hispanic Native  Other   \n",
       "sex                                                                     \n",
       "0.0                              472.0  2680.0   1553.0   69.0  330.0   \n",
       "1.0                              780.0  3162.0   3118.0   81.0  530.0   \n",
       "\n",
       "                                                        \n",
       "Race and ethnicity (combined) Pacific Islander   White  \n",
       "sex                                                     \n",
       "0.0                                       31.0  7261.0  \n",
       "1.0                                       80.0  9022.0  "
      ]
     },
     "execution_count": 54,
     "metadata": {},
     "output_type": "execute_result"
    }
   ],
   "source": [
    "#building new dataframe for gender and race\n",
    "genders = file[['sex','Race and ethnicity (combined)',\"death_yn\"]]\n",
    "#getting the deaths of different races\n",
    "ethnicity_gender = genders.groupby([genders['sex'],genders['Race and ethnicity (combined)']]).sum()\n",
    "#getting the total cases of different races\n",
    "ethnic_gender = genders.groupby([genders['sex'],genders['Race and ethnicity (combined)']]).count()\n",
    "ethnic_gender = ethnic_gender.unstack()\n",
    "ethnicity_with_gender = ethnicity_gender.unstack()\n",
    "ethnicity_with_gender"
   ]
  },
  {
   "cell_type": "code",
   "execution_count": 57,
   "metadata": {},
   "outputs": [
    {
     "data": {
      "image/png": "[encoded data removed]",
      "text/plain": [
       "<Figure size 432x288 with 1 Axes>"
      ]
     },
     "metadata": {},
     "output_type": "display_data"
    }
   ],
   "source": [
    "#displaying deaths of each gender of White people\n",
    "white_genders = ethnicity_with_gender['death_yn']['White']\n",
    "plt.title(\"Deaths of White Men vs Women\")\n",
    "\n",
    "chart = plt.pie(white_genders,autopct='%.2f',labels=(\"Women\",\"Men\"))"
   ]
  },
  {
   "cell_type": "code",
   "execution_count": 58,
   "metadata": {},
   "outputs": [
    {
     "data": {
      "image/png": "[encoded data removed]",
      "text/plain": [
       "<Figure size 432x288 with 1 Axes>"
      ]
     },
     "metadata": {},
     "output_type": "display_data"
    }
   ],
   "source": [
    "#displaying deaths of each gender of Black people\n",
    "black_genders = ethnicity_with_gender['death_yn']['Black']\n",
    "plt.title(\"Deaths of Black Men and Women\")\n",
    "chart = plt.pie(black_genders,autopct='%.2f',labels=(\"Women\",\"Men\"))"
   ]
  },
  {
   "cell_type": "code",
   "execution_count": 60,
   "metadata": {},
   "outputs": [
    {
     "data": {
      "image/png": "[encoded data removed]",
      "text/plain": [
       "<Figure size 432x288 with 1 Axes>"
      ]
     },
     "metadata": {},
     "output_type": "display_data"
    }
   ],
   "source": [
    "#displaying deaths of each gender of Hispanic people\n",
    "hispanic_genders = ethnicity_with_gender['death_yn']['Hispanic']\n",
    "plt.title(\"Deaths of Hispanic Men and Women\")\n",
    "chart = plt.pie(hispanic_genders,autopct='%.2f',labels=(\"Women\",\"Men\"))"
   ]
  },
  {
   "cell_type": "code",
   "execution_count": 61,
   "metadata": {},
   "outputs": [
    {
     "data": {
      "image/png": "[encoded data removed]",
      "text/plain": [
       "<Figure size 432x288 with 1 Axes>"
      ]
     },
     "metadata": {},
     "output_type": "display_data"
    }
   ],
   "source": [
    "#displaying deaths of each gender of Asian people\n",
    "asian_genders = ethnicity_with_gender['death_yn']['Asian']\n",
    "plt.title(\"Deaths of Asian Men and Women\")\n",
    "chart = plt.pie(asian_genders,autopct='%.2f',labels=(\"Women\",\"Men\"))"
   ]
  },
  {
   "cell_type": "code",
   "execution_count": 63,
   "metadata": {},
   "outputs": [
    {
     "data": {
      "image/png": "[encoded data removed]",
      "text/plain": [
       "<Figure size 432x288 with 1 Axes>"
      ]
     },
     "metadata": {},
     "output_type": "display_data"
    }
   ],
   "source": [
    "#displaying deaths of each gender of Native American people\n",
    "native_genders = ethnicity_with_gender['death_yn']['Native']\n",
    "plt.title(\"Deaths of Native American Men and Women\")\n",
    "chart = plt.pie(native_genders,autopct='%.2f',labels=(\"Women\",\"Men\"))"
   ]
  },
  {
   "cell_type": "code",
   "execution_count": 65,
   "metadata": {},
   "outputs": [
    {
     "data": {
      "image/png": "[encoded data removed]",
      "text/plain": [
       "<Figure size 432x288 with 1 Axes>"
      ]
     },
     "metadata": {},
     "output_type": "display_data"
    }
   ],
   "source": [
    "#displaying deaths of each gender of the other races\n",
    "other_genders = ethnicity_with_gender['death_yn']['Other']\n",
    "plt.title(\"Deaths of Other Men and Women\")\n",
    "chart = plt.pie(other_genders,autopct='%.2f',labels=(\"Women\",\"Men\"))"
   ]
  },
  {
   "cell_type": "code",
   "execution_count": 66,
   "metadata": {},
   "outputs": [
    {
     "data": {
      "image/png": "[encoded data removed]",
      "text/plain": [
       "<Figure size 432x288 with 1 Axes>"
      ]
     },
     "metadata": {},
     "output_type": "display_data"
    }
   ],
   "source": [
    "#displaying deaths of each gender of Pacific Islander people\n",
    "pac_genders = ethnicity_with_gender['death_yn']['Pacific Islander']\n",
    "plt.title(\"Deaths of Pacific Islander Men and Women\")\n",
    "chart = plt.pie(pac_genders,autopct='%.2f',labels=(\"Women\",\"Men\"))"
   ]
  },
  {
   "cell_type": "markdown",
   "metadata": {},
   "source": [
    "### Some interesting things to note here.\n",
    "White people and black people are pretty similar, with women being 60% more likely to survive than men. Pacific Islanders and hispanic people have vastly differing numbers, with women surviving around 70% more than men. This may be related to the fact that a higher percentage of women stay home than men, who tend to be more employed(1). This could also be cultural, especially the difference with Asian women vs men, as only 6.5% of Asian women are employed as of 2019(2).\n",
    "\n",
    "1: https://work.chron.com/male-vs-female-statistics-workplace-america-23880.html\n",
    "\n",
    "2: https://www.bls.gov/cps/cpsaat11.htm"
   ]
  },
  {
   "cell_type": "code",
   "execution_count": 28,
   "metadata": {},
   "outputs": [
    {
     "data": {
      "text/html": [
       "<div>\n",
       "<style scoped>\n",
       "    .dataframe tbody tr th:only-of-type {\n",
       "        vertical-align: middle;\n",
       "    }\n",
       "\n",
       "    .dataframe tbody tr th {\n",
       "        vertical-align: top;\n",
       "    }\n",
       "\n",
       "    .dataframe thead tr th {\n",
       "        text-align: left;\n",
       "    }\n",
       "\n",
       "    .dataframe thead tr:last-of-type th {\n",
       "        text-align: right;\n",
       "    }\n",
       "</style>\n",
       "<table border=\"1\" class=\"dataframe\">\n",
       "  <thead>\n",
       "    <tr>\n",
       "      <th></th>\n",
       "      <th colspan=\"7\" halign=\"left\">death_yn</th>\n",
       "    </tr>\n",
       "    <tr>\n",
       "      <th>Race and ethnicity (combined)</th>\n",
       "      <th>Asian</th>\n",
       "      <th>Black</th>\n",
       "      <th>Hispanic</th>\n",
       "      <th>Native</th>\n",
       "      <th>Other</th>\n",
       "      <th>Pacific Islander</th>\n",
       "      <th>White</th>\n",
       "    </tr>\n",
       "    <tr>\n",
       "      <th>medcond_yn</th>\n",
       "      <th></th>\n",
       "      <th></th>\n",
       "      <th></th>\n",
       "      <th></th>\n",
       "      <th></th>\n",
       "      <th></th>\n",
       "      <th></th>\n",
       "    </tr>\n",
       "  </thead>\n",
       "  <tbody>\n",
       "    <tr>\n",
       "      <th>0.0</th>\n",
       "      <td>7202</td>\n",
       "      <td>16636</td>\n",
       "      <td>52685</td>\n",
       "      <td>539</td>\n",
       "      <td>6917</td>\n",
       "      <td>1028</td>\n",
       "      <td>121621</td>\n",
       "    </tr>\n",
       "    <tr>\n",
       "      <th>1.0</th>\n",
       "      <td>6313</td>\n",
       "      <td>39000</td>\n",
       "      <td>45046</td>\n",
       "      <td>1104</td>\n",
       "      <td>6627</td>\n",
       "      <td>1620</td>\n",
       "      <td>151393</td>\n",
       "    </tr>\n",
       "  </tbody>\n",
       "</table>\n",
       "</div>"
      ],
      "text/plain": [
       "                              death_yn                               \\\n",
       "Race and ethnicity (combined)    Asian  Black Hispanic Native Other   \n",
       "medcond_yn                                                            \n",
       "0.0                               7202  16636    52685    539  6917   \n",
       "1.0                               6313  39000    45046   1104  6627   \n",
       "\n",
       "                                                        \n",
       "Race and ethnicity (combined) Pacific Islander   White  \n",
       "medcond_yn                                              \n",
       "0.0                                       1028  121621  \n",
       "1.0                                       1620  151393  "
      ]
     },
     "execution_count": 28,
     "metadata": {},
     "output_type": "execute_result"
    }
   ],
   "source": [
    "#building dataframe for race with co-morbidity\n",
    "#building new dataframe for co-morbidity and race\n",
    "med = file[['medcond_yn','Race and ethnicity (combined)',\"death_yn\"]]\n",
    "#getting the deaths of different races\n",
    "ethnicity_med = med.groupby([med['medcond_yn'],med['Race and ethnicity (combined)']]).sum()\n",
    "#getting the total cases of different races\n",
    "ethnic_med = med.groupby([med['medcond_yn'],med['Race and ethnicity (combined)']]).count()\n",
    "ethnic_med = ethnic_med.unstack()\n",
    "ethnicity_with_med = ethnicity_med.unstack()\n",
    "ethnic_med"
   ]
  },
  {
   "cell_type": "code",
   "execution_count": 29,
   "metadata": {},
   "outputs": [
    {
     "data": {
      "text/html": [
       "<div>\n",
       "<style scoped>\n",
       "    .dataframe tbody tr th:only-of-type {\n",
       "        vertical-align: middle;\n",
       "    }\n",
       "\n",
       "    .dataframe tbody tr th {\n",
       "        vertical-align: top;\n",
       "    }\n",
       "\n",
       "    .dataframe thead tr th {\n",
       "        text-align: left;\n",
       "    }\n",
       "\n",
       "    .dataframe thead tr:last-of-type th {\n",
       "        text-align: right;\n",
       "    }\n",
       "</style>\n",
       "<table border=\"1\" class=\"dataframe\">\n",
       "  <thead>\n",
       "    <tr>\n",
       "      <th></th>\n",
       "      <th colspan=\"7\" halign=\"left\">death_yn</th>\n",
       "    </tr>\n",
       "    <tr>\n",
       "      <th>Race and ethnicity (combined)</th>\n",
       "      <th>Asian</th>\n",
       "      <th>Black</th>\n",
       "      <th>Hispanic</th>\n",
       "      <th>Native</th>\n",
       "      <th>Other</th>\n",
       "      <th>Pacific Islander</th>\n",
       "      <th>White</th>\n",
       "    </tr>\n",
       "    <tr>\n",
       "      <th>medcond_yn</th>\n",
       "      <th></th>\n",
       "      <th></th>\n",
       "      <th></th>\n",
       "      <th></th>\n",
       "      <th></th>\n",
       "      <th></th>\n",
       "      <th></th>\n",
       "    </tr>\n",
       "  </thead>\n",
       "  <tbody>\n",
       "    <tr>\n",
       "      <th>0.0</th>\n",
       "      <td>77.0</td>\n",
       "      <td>216.0</td>\n",
       "      <td>303.0</td>\n",
       "      <td>10.0</td>\n",
       "      <td>49.0</td>\n",
       "      <td>21.0</td>\n",
       "      <td>995.0</td>\n",
       "    </tr>\n",
       "    <tr>\n",
       "      <th>1.0</th>\n",
       "      <td>1175.0</td>\n",
       "      <td>5626.0</td>\n",
       "      <td>4368.0</td>\n",
       "      <td>140.0</td>\n",
       "      <td>811.0</td>\n",
       "      <td>90.0</td>\n",
       "      <td>15288.0</td>\n",
       "    </tr>\n",
       "  </tbody>\n",
       "</table>\n",
       "</div>"
      ],
      "text/plain": [
       "                              death_yn                                 \\\n",
       "Race and ethnicity (combined)    Asian   Black Hispanic Native  Other   \n",
       "medcond_yn                                                              \n",
       "0.0                               77.0   216.0    303.0   10.0   49.0   \n",
       "1.0                             1175.0  5626.0   4368.0  140.0  811.0   \n",
       "\n",
       "                                                         \n",
       "Race and ethnicity (combined) Pacific Islander    White  \n",
       "medcond_yn                                               \n",
       "0.0                                       21.0    995.0  \n",
       "1.0                                       90.0  15288.0  "
      ]
     },
     "execution_count": 29,
     "metadata": {},
     "output_type": "execute_result"
    }
   ],
   "source": [
    "#these are the deaths of each race and\n",
    "#whether or not they had pre-existing conditions\n",
    "ethnicity_with_med"
   ]
  },
  {
   "cell_type": "code",
   "execution_count": 69,
   "metadata": {},
   "outputs": [
    {
     "data": {
      "image/png": "[encoded data removed]",
      "text/plain": [
       "<Figure size 432x288 with 1 Axes>"
      ]
     },
     "metadata": {},
     "output_type": "display_data"
    }
   ],
   "source": [
    "#survival rate of Pacific Islanders with\n",
    "#a pre-existing medical condition\n",
    "pac_med = ethnicity_with_med['death_yn']['Pacific Islander']\n",
    "plt.title(\"Deaths of Pacific Islanders with a Pre-existing Condition\")\n",
    "chart = plt.pie(pac_med,autopct='%.2f',labels=(\"Survivors\",\"Deaths\"))"
   ]
  },
  {
   "cell_type": "code",
   "execution_count": 70,
   "metadata": {},
   "outputs": [
    {
     "data": {
      "image/png": "[encoded data removed]",
      "text/plain": [
       "<Figure size 432x288 with 1 Axes>"
      ]
     },
     "metadata": {},
     "output_type": "display_data"
    }
   ],
   "source": [
    "#survival rate of Black people with\n",
    "#a pre-existing medical condition\n",
    "black_med = ethnicity_with_med['death_yn']['Black']\n",
    "plt.title(\"Deaths of Black People with a Pre-existing Condition\")\n",
    "chart = plt.pie(black_med,autopct='%.2f',labels=(\"Survivors\",\"Deaths\"))"
   ]
  },
  {
   "cell_type": "code",
   "execution_count": 71,
   "metadata": {},
   "outputs": [
    {
     "data": {
      "image/png": "[encoded data removed]",
      "text/plain": [
       "<Figure size 432x288 with 1 Axes>"
      ]
     },
     "metadata": {},
     "output_type": "display_data"
    }
   ],
   "source": [
    "#survival rate of White people with\n",
    "#a pre-existing medical condition\n",
    "white_med = ethnicity_with_med['death_yn']['White']\n",
    "plt.title(\"Deaths of White People with a Pre-existing Condition\")\n",
    "chart = plt.pie(white_med,autopct='%.2f',labels=(\"Survivors\",\"Deaths\"))"
   ]
  },
  {
   "cell_type": "code",
   "execution_count": 73,
   "metadata": {},
   "outputs": [
    {
     "data": {
      "image/png": "[encoded data removed]",
      "text/plain": [
       "<Figure size 432x288 with 1 Axes>"
      ]
     },
     "metadata": {},
     "output_type": "display_data"
    }
   ],
   "source": [
    "#survival rate of Hispanic pople with\n",
    "#a pre-existing medical condition\n",
    "hispanic_med = ethnicity_with_med['death_yn']['Hispanic']\n",
    "plt.title(\"Deaths of Hispanic People with a Pre-existing Condition\")\n",
    "chart = plt.pie(hispanic_med,autopct='%.2f',labels=(\"Survivors\",\"Deaths\"))"
   ]
  },
  {
   "cell_type": "code",
   "execution_count": 74,
   "metadata": {},
   "outputs": [
    {
     "data": {
      "image/png": "[encoded data removed]",
      "text/plain": [
       "<Figure size 432x288 with 1 Axes>"
      ]
     },
     "metadata": {},
     "output_type": "display_data"
    }
   ],
   "source": [
    "#survival rate of Asian people with\n",
    "#a pre-existing medical condition\n",
    "asian_med = ethnicity_with_med['death_yn']['Asian']\n",
    "plt.title(\"Deaths of Asian People with a Pre-existing Condition\")\n",
    "chart = plt.pie(asian_med,autopct='%.2f',labels=(\"Survivors\",\"Deaths\"))"
   ]
  },
  {
   "cell_type": "code",
   "execution_count": 75,
   "metadata": {},
   "outputs": [
    {
     "data": {
      "image/png": "[encoded data removed]",
      "text/plain": [
       "<Figure size 432x288 with 1 Axes>"
      ]
     },
     "metadata": {},
     "output_type": "display_data"
    }
   ],
   "source": [
    "#survival rate of Native Americans with\n",
    "#a pre-existing medical condition\n",
    "native_med = ethnicity_with_med['death_yn']['Native']\n",
    "plt.title(\"Deaths of Native Americans with a Pre-existing Condition\")\n",
    "chart = plt.pie(native_med,autopct='%.2f',labels=(\"Survivors\",\"Deaths\"))"
   ]
  },
  {
   "cell_type": "code",
   "execution_count": 76,
   "metadata": {},
   "outputs": [
    {
     "data": {
      "image/png": "[encoded data removed]",
      "text/plain": [
       "<Figure size 432x288 with 1 Axes>"
      ]
     },
     "metadata": {},
     "output_type": "display_data"
    }
   ],
   "source": [
    "#survival rate of other people with\n",
    "#a pre-existing medical condition\n",
    "other_med = ethnicity_with_med['death_yn']['Other']\n",
    "plt.title(\"Deaths of Other Races with a Pre-existing Condition\")\n",
    "chart = plt.pie(other_med,autopct='%.2f',labels=(\"Survivors\",\"Deaths\"))"
   ]
  },
  {
   "cell_type": "markdown",
   "metadata": {},
   "source": [
    "## Here we see that pre-existing conditions is a MAJOR factor in survivability\n",
    "It's interesting to note that Pacific Islanders with pre-existing conditions have such a higher survival rate than all of the other ethnic groups at 18.92.\n",
    "Unfortunaly, we again see that black people have been hit hard by covid, with only 3.7% survivability with a pre-existing condition.\n",
    "Everybody else has a survivability of around 6-7% with a pre-existing condition."
   ]
  },
  {
   "cell_type": "code",
   "execution_count": null,
   "metadata": {},
   "outputs": [],
   "source": []
  }
 ],
 "metadata": {
  "kernelspec": {
   "display_name": "Python 3",
   "language": "python",
   "name": "python3"
  },
  "language_info": {
   "codemirror_mode": {
    "name": "ipython",
    "version": 3
   },
   "file_extension": ".py",
   "mimetype": "text/x-python",
   "name": "python",
   "nbconvert_exporter": "python",
   "pygments_lexer": "ipython3",
   "version": "3.8.3"
  }
 },
 "nbformat": 4,
 "nbformat_minor": 4
}
